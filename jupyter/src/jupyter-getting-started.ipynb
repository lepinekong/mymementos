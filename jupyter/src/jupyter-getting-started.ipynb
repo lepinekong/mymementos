{
 "cells": [
  {
   "cell_type": "code",
   "execution_count": 1,
   "metadata": {},
   "outputs": [
    {
     "name": "stdout",
     "output_type": "stream",
     "text": [
      "hello world\n"
     ]
    }
   ],
   "source": [
    "print(\"hello world\")"
   ]
  },
  {
   "cell_type": "code",
   "execution_count": 2,
   "metadata": {},
   "outputs": [
    {
     "name": "stdout",
     "output_type": "stream",
     "text": [
      "hello world\n"
     ]
    }
   ],
   "source": [
    "print('hello world')"
   ]
  },
  {
   "cell_type": "code",
   "execution_count": 6,
   "metadata": {},
   "outputs": [
    {
     "data": {
      "text/html": [
       "<div>\n",
       "<style>\n",
       "    .dataframe thead tr:only-child th {\n",
       "        text-align: right;\n",
       "    }\n",
       "\n",
       "    .dataframe thead th {\n",
       "        text-align: left;\n",
       "    }\n",
       "\n",
       "    .dataframe tbody tr th {\n",
       "        vertical-align: top;\n",
       "    }\n",
       "</style>\n",
       "<table border=\"1\" class=\"dataframe\">\n",
       "  <thead>\n",
       "    <tr style=\"text-align: right;\">\n",
       "      <th></th>\n",
       "      <th>Year</th>\n",
       "      <th>Rank</th>\n",
       "      <th>Company</th>\n",
       "      <th>Revenue (in millions)</th>\n",
       "      <th>Profit (in millions)</th>\n",
       "    </tr>\n",
       "  </thead>\n",
       "  <tbody>\n",
       "    <tr>\n",
       "      <th>0</th>\n",
       "      <td>1955</td>\n",
       "      <td>1</td>\n",
       "      <td>General Motors</td>\n",
       "      <td>9823.5</td>\n",
       "      <td>806</td>\n",
       "    </tr>\n",
       "    <tr>\n",
       "      <th>1</th>\n",
       "      <td>1955</td>\n",
       "      <td>2</td>\n",
       "      <td>Exxon Mobil</td>\n",
       "      <td>5661.4</td>\n",
       "      <td>584.8</td>\n",
       "    </tr>\n",
       "    <tr>\n",
       "      <th>2</th>\n",
       "      <td>1955</td>\n",
       "      <td>3</td>\n",
       "      <td>U.S. Steel</td>\n",
       "      <td>3250.4</td>\n",
       "      <td>195.4</td>\n",
       "    </tr>\n",
       "    <tr>\n",
       "      <th>3</th>\n",
       "      <td>1955</td>\n",
       "      <td>4</td>\n",
       "      <td>General Electric</td>\n",
       "      <td>2959.1</td>\n",
       "      <td>212.6</td>\n",
       "    </tr>\n",
       "    <tr>\n",
       "      <th>4</th>\n",
       "      <td>1955</td>\n",
       "      <td>5</td>\n",
       "      <td>Esmark</td>\n",
       "      <td>2510.8</td>\n",
       "      <td>19.1</td>\n",
       "    </tr>\n",
       "  </tbody>\n",
       "</table>\n",
       "</div>"
      ],
      "text/plain": [
       "   Year  Rank           Company  Revenue (in millions) Profit (in millions)\n",
       "0  1955     1    General Motors                 9823.5                  806\n",
       "1  1955     2       Exxon Mobil                 5661.4                584.8\n",
       "2  1955     3        U.S. Steel                 3250.4                195.4\n",
       "3  1955     4  General Electric                 2959.1                212.6\n",
       "4  1955     5            Esmark                 2510.8                 19.1"
      ]
     },
     "execution_count": 6,
     "metadata": {},
     "output_type": "execute_result"
    }
   ],
   "source": [
    "import pandas as pd\n",
    "df = pd.read_csv('db/fortune500.csv')\n",
    "df.head()"
   ]
  },
  {
   "cell_type": "code",
   "execution_count": 7,
   "metadata": {},
   "outputs": [
    {
     "name": "stdout",
     "output_type": "stream",
     "text": [
      "       Year  Rank                       Company  Revenue (in millions)  \\\n",
      "0      1955     1                General Motors                 9823.5   \n",
      "1      1955     2                   Exxon Mobil                 5661.4   \n",
      "2      1955     3                    U.S. Steel                 3250.4   \n",
      "3      1955     4              General Electric                 2959.1   \n",
      "4      1955     5                        Esmark                 2510.8   \n",
      "5      1955     6                      Chrysler                 2071.6   \n",
      "6      1955     7                        Armour                 2056.1   \n",
      "7      1955     8                      Gulf Oil                 1705.3   \n",
      "8      1955     9                         Mobil                 1703.6   \n",
      "9      1955    10                        DuPont                 1687.7   \n",
      "10     1955    11                         Amoco                 1667.4   \n",
      "11     1955    12               Bethlehem Steel                 1660.3   \n",
      "12     1955    13                           CBS                 1631.0   \n",
      "13     1955    14                        Texaco                 1574.4   \n",
      "14     1955    15             AT&T Technologies                 1526.2   \n",
      "15     1955    16                     Shell Oil                 1312.1   \n",
      "16     1955    17                         Kraft                 1210.3   \n",
      "17     1955    18                 ChevronTexaco                 1113.3   \n",
      "18     1955    19        Goodyear Tire & Rubber                 1090.1   \n",
      "19     1955    20                        Boeing                 1033.2   \n",
      "20     1955    21                  Sinclair Oil                 1021.5   \n",
      "21     1955    22        Navistar International                  994.1   \n",
      "22     1955    23                           RCA                  941.0   \n",
      "23     1955    24                 Union Carbide                  923.7   \n",
      "24     1955    25       Firestone Tire & Rubber                  916.0   \n",
      "25     1955    26              Douglas Aircraft                  915.2   \n",
      "26     1955    27              Procter & Gamble                  911.0   \n",
      "27     1955    28                Republic Steel                  846.3   \n",
      "28     1955    29               Citgo Petroleum                  813.2   \n",
      "29     1955    30                ConocoPhillips                  794.6   \n",
      "...     ...   ...                           ...                    ...   \n",
      "25470  2005   471              Wisconsin Energy                 3912.1   \n",
      "25471  2005   472       American Financial Grp.                 3911.7   \n",
      "25472  2005   473              Beazer Homes USA                 3907.1   \n",
      "25473  2005   474              Collins & Aikman                 3904.0   \n",
      "25474  2005   475                 Borders Group                 3903.0   \n",
      "25475  2005   476                    Nash Finch                 3897.1   \n",
      "25476  2005   477                 Toll Brothers                 3893.1   \n",
      "25477  2005   478                         SCANA                 3885.0   \n",
      "25478  2005   479            Whole Foods Market                 3864.9   \n",
      "25479  2005   480                       Corning                 3854.0   \n",
      "25480  2005   481                    Sealed Air                 3798.1   \n",
      "25481  2005   482                        Maxtor                 3796.3   \n",
      "25482  2005   483          Reebok International                 3785.3   \n",
      "25483  2005   484                           UGI                 3784.7   \n",
      "25484  2005   485                       Guidant                 3775.2   \n",
      "25485  2005   486                 Host Marriott                 3773.0   \n",
      "25486  2005   487            Advance Auto Parts                 3770.3   \n",
      "25487  2005   488                 ServiceMaster                 3759.6   \n",
      "25488  2005   489           Wesco International                 3741.3   \n",
      "25489  2005   490         Telephone & Data Sys.                 3720.4   \n",
      "25490  2005   491        Level 3 Communications                 3712.0   \n",
      "25491  2005   492         Brinker International                 3707.5   \n",
      "25492  2005   493         Stater Bros. Holdings                 3704.9   \n",
      "25493  2005   494  Western & Southern Financial                 3694.5   \n",
      "25494  2005   495                       Gateway                 3649.7   \n",
      "25495  2005   496               Wm. Wrigley Jr.                 3648.6   \n",
      "25496  2005   497                Peabody Energy                 3631.6   \n",
      "25497  2005   498         Wendy's International                 3630.4   \n",
      "25498  2005   499            Kindred Healthcare                 3616.6   \n",
      "25499  2005   500          Cincinnati Financial                 3614.0   \n",
      "\n",
      "      Profit (in millions)  \n",
      "0                      806  \n",
      "1                    584.8  \n",
      "2                    195.4  \n",
      "3                    212.6  \n",
      "4                     19.1  \n",
      "5                     18.5  \n",
      "6                      1.6  \n",
      "7                    182.8  \n",
      "8                    183.8  \n",
      "9                    344.4  \n",
      "10                   132.8  \n",
      "11                   117.2  \n",
      "12                    84.6  \n",
      "13                   226.1  \n",
      "14                    55.8  \n",
      "15                   121.1  \n",
      "16                    37.4  \n",
      "17                   211.9  \n",
      "18                    48.1  \n",
      "19                      37  \n",
      "20                    91.6  \n",
      "21                    36.3  \n",
      "22                    40.5  \n",
      "23                    89.8  \n",
      "24                    40.5  \n",
      "25                    36.2  \n",
      "26                    52.3  \n",
      "27                    52.9  \n",
      "28                    43.7  \n",
      "29                    76.2  \n",
      "...                    ...  \n",
      "25470                306.4  \n",
      "25471                359.9  \n",
      "25472                235.8  \n",
      "25473               -118.5  \n",
      "25474                131.9  \n",
      "25475                 14.9  \n",
      "25476                409.1  \n",
      "25477                  257  \n",
      "25478                137.1  \n",
      "25479                -2165  \n",
      "25480                215.6  \n",
      "25481               -181.9  \n",
      "25482                192.4  \n",
      "25483                111.6  \n",
      "25484                  524  \n",
      "25485                 N.A.  \n",
      "25486                  188  \n",
      "25487                331.2  \n",
      "25488                 64.9  \n",
      "25489                   49  \n",
      "25490                 -458  \n",
      "25491                  154  \n",
      "25492                 71.8  \n",
      "25493                  328  \n",
      "25494               -567.6  \n",
      "25495                  493  \n",
      "25496                175.4  \n",
      "25497                 57.8  \n",
      "25498                 70.6  \n",
      "25499                  584  \n",
      "\n",
      "[25500 rows x 5 columns]\n"
     ]
    }
   ],
   "source": [
    "print(df)"
   ]
  },
  {
   "cell_type": "code",
   "execution_count": null,
   "metadata": {
    "collapsed": true
   },
   "outputs": [],
   "source": []
  }
 ],
 "metadata": {
  "kernelspec": {
   "display_name": "Python 3",
   "language": "python",
   "name": "python3"
  },
  "language_info": {
   "codemirror_mode": {
    "name": "ipython",
    "version": 3
   },
   "file_extension": ".py",
   "mimetype": "text/x-python",
   "name": "python",
   "nbconvert_exporter": "python",
   "pygments_lexer": "ipython3",
   "version": "3.6.2"
  }
 },
 "nbformat": 4,
 "nbformat_minor": 2
}
